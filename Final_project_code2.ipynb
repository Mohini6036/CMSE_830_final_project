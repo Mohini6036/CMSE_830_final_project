{
 "cells": [
  {
   "cell_type": "markdown",
   "metadata": {},
   "source": [
    "# Import libraries"
   ]
  },
  {
   "cell_type": "code",
   "execution_count": 18,
   "metadata": {},
   "outputs": [],
   "source": [
    "import pandas as pd\n",
    "import numpy as np\n",
    "import matplotlib.pyplot as plt\n",
    "import seaborn as sns\n",
    "import os\n",
    "from sklearn.model_selection import train_test_split, GridSearchCV\n",
    "from sklearn.preprocessing import StandardScaler\n",
    "from sklearn.impute import SimpleImputer\n",
    "from imblearn.over_sampling import SMOTE\n",
    "from imblearn.under_sampling import RandomUnderSampler\n",
    "from sklearn.metrics import classification_report, roc_auc_score, confusion_matrix, roc_curve\n",
    "from sklearn.svm import SVC\n",
    "from sklearn.ensemble import GradientBoostingClassifier\n",
    "from sklearn.neighbors import KNeighborsClassifier\n",
    "from sklearn.naive_bayes import GaussianNB\n",
    "from sklearn.tree import DecisionTreeClassifier\n",
    "from xgboost import XGBClassifier\n",
    "from lightgbm import LGBMClassifier\n",
    "from sklearn.linear_model import LogisticRegression\n",
    "import tensorflow as tf\n",
    "from tensorflow.keras.models import Sequential\n",
    "from tensorflow.keras.layers import Dense, Dropout"
   ]
  },
  {
   "cell_type": "code",
   "execution_count": 19,
   "metadata": {},
   "outputs": [],
   "source": [
    "url = \"D:/Foundations_of_DataScience/Projects/Final_projects/lending_club_dataset_2007_2020/lending_club_clean.feather\"\n",
    "data = pd.read_feather(url)\n",
    "\n",
    "\n",
    "target_variable = 'loan_status'  # Replace with the actual target variable name\n",
    "\n",
    "# Define the percentage of data to retain (75-80%)\n",
    "retain_fraction = 0.75 + 0.05 * (data[target_variable].value_counts(normalize=True).std() < 0.01)\n",
    "\n",
    "# Stratified sampling to maintain balance in the target variable\n",
    "reduced_data, _ = train_test_split(\n",
    "    data, \n",
    "    test_size=1 - retain_fraction, \n",
    "    stratify=data[target_variable], \n",
    "    random_state=42\n",
    ")\n",
    "\n",
    "# Save the reduced dataset to a CSV file\n",
    "output_path = \"D:/Foundations_of_DataScience/Projects/Final_projects/lending_club_dataset_2007_2020/reduced_data.csv\"\n",
    "reduced_data.to_csv(output_path, index=False)"
   ]
  },
  {
   "cell_type": "markdown",
   "metadata": {},
   "source": [
    "# Load data"
   ]
  },
  {
   "cell_type": "code",
   "execution_count": null,
   "metadata": {},
   "outputs": [],
   "source": [
    "# url = \"\"\"D:/Foundations_of_DataScience/Projects/Final_projects/lending_club_dataset_2007_2020/lending_club_clean.feather\"\"\"\n",
    "# data = pd.read_feather(url)\n",
    "# # data = pd.read_csv(url)\n",
    "\n",
    "dfs = []\n",
    "for i in range(9):\n",
    "    file_path = os.path.join(f'chunk_{i}.csv')\n",
    "    df = pd.read_csv(file_path)\n",
    "    dfs.append(df)\n",
    "\n",
    "data = pd.concat(dfs, ignore_index=True)\n",
    "df=data.copy()"
   ]
  },
  {
   "cell_type": "markdown",
   "metadata": {},
   "source": [
    "# Initial inspection"
   ]
  },
  {
   "cell_type": "code",
   "execution_count": null,
   "metadata": {},
   "outputs": [],
   "source": [
    "columns_to_remove = [\n",
    "    \"hardship_type\",\n",
    "    \"hardship_reason\",\n",
    "    \"hardship_status\",\n",
    "    \"hardship_start_date\",\n",
    "    \"hardship_end_date\",\n",
    "    \"payment_plan_start_date\",\n",
    "    \"hardship_loan_status\",\n",
    "    \"verification_status_joint\",\n",
    "    \"sec_app_earliest_cr_line\",\n",
    "    \"next_pymnt_d\",\n",
    "    \"earliest_cr_line\",\n",
    "    \"last_credit_pull_d\",\n",
    "    \"revol_util\"\n",
    "]\n",
    "data = data.drop(columns=columns_to_remove)\n",
    "print(data.columns)"
   ]
  },
  {
   "cell_type": "code",
   "execution_count": null,
   "metadata": {},
   "outputs": [],
   "source": [
    "missing_values = data.isnull().sum()\n",
    "missing_columns = missing_values[missing_values > 0]\n",
    "\n",
    "print(\"Columns with missing values and their counts:\")\n",
    "print(missing_columns)"
   ]
  },
  {
   "cell_type": "code",
   "execution_count": null,
   "metadata": {},
   "outputs": [],
   "source": [
    "print(\"Basic Statistics:\\n\", data.describe(include='all'))"
   ]
  },
  {
   "cell_type": "code",
   "execution_count": null,
   "metadata": {},
   "outputs": [],
   "source": [
    "data=data[(~data['emp_length'].isna()) & (~data['emp_title'].isna())].copy()"
   ]
  },
  {
   "cell_type": "code",
   "execution_count": null,
   "metadata": {},
   "outputs": [],
   "source": [
    "data = data.dropna(subset=['zip_code'])"
   ]
  },
  {
   "cell_type": "markdown",
   "metadata": {},
   "source": [
    "# Fill missing values for simplicity"
   ]
  },
  {
   "cell_type": "code",
   "execution_count": null,
   "metadata": {},
   "outputs": [],
   "source": [
    "numerical_cols = data.select_dtypes(include=['number']).columns\n",
    "categorical_cols = data.select_dtypes(include=['object', 'category']).columns"
   ]
  },
  {
   "cell_type": "code",
   "execution_count": null,
   "metadata": {},
   "outputs": [],
   "source": [
    "numerical_imputer = SimpleImputer(strategy='mean')\n",
    "data[numerical_cols] = numerical_imputer.fit_transform(data[numerical_cols])"
   ]
  },
  {
   "cell_type": "code",
   "execution_count": null,
   "metadata": {},
   "outputs": [],
   "source": [
    "categorical_imputer = SimpleImputer(strategy='most_frequent')\n",
    "data[categorical_cols] = categorical_imputer.fit_transform(data[categorical_cols])"
   ]
  },
  {
   "cell_type": "markdown",
   "metadata": {},
   "source": [
    "# Convert categorical columns to numeric"
   ]
  },
  {
   "cell_type": "code",
   "execution_count": null,
   "metadata": {},
   "outputs": [],
   "source": [
    "categorical_cols = data.select_dtypes(include=['object']).columns\n",
    "for col in categorical_cols:\n",
    "    data[col] = pd.factorize(data[col])[0]"
   ]
  },
  {
   "cell_type": "markdown",
   "metadata": {},
   "source": [
    "### Exploratory Data Analysis (EDA)"
   ]
  },
  {
   "cell_type": "code",
   "execution_count": null,
   "metadata": {},
   "outputs": [],
   "source": [
    "plt.figure(figsize=(12, 6))\n",
    "sns.histplot(data['loan_amnt'], kde=True, bins=30)\n",
    "plt.title(\"Loan Amount Distribution\")\n",
    "plt.show()"
   ]
  },
  {
   "cell_type": "markdown",
   "metadata": {},
   "source": [
    "# Correlation heatmap"
   ]
  },
  {
   "cell_type": "code",
   "execution_count": null,
   "metadata": {},
   "outputs": [],
   "source": [
    "correlation = data.corr()\n",
    "threshold = 0.5 \n",
    "loan_status_correlation = correlation[\"loan_status\"].abs()\n",
    "highly_correlated = loan_status_correlation[loan_status_correlation > threshold].sort_values(ascending=False)\n",
    "print(\"Highly correlated features with 'loan_status':\")\n",
    "print(highly_correlated)\n",
    "\n",
    "high_corr_features = highly_correlated.index.tolist()\n",
    "plt.figure(figsize=(10, 8))\n",
    "sns.heatmap(data[high_corr_features].corr(), annot=True, cmap=\"coolwarm\", fmt=\".2f\")\n",
    "plt.title(\"Heatmap of Highly Correlated Features with 'loan_status'\")\n",
    "plt.show()"
   ]
  },
  {
   "cell_type": "markdown",
   "metadata": {},
   "source": [
    "# Overall features"
   ]
  },
  {
   "cell_type": "code",
   "execution_count": null,
   "metadata": {},
   "outputs": [],
   "source": [
    "threshold = 0.9\n",
    "np.fill_diagonal(correlation.values, 0)\n",
    "filtered_correlation = correlation[correlation.abs() > threshold]\n",
    "filtered_correlation = filtered_correlation.dropna(how=\"all\").dropna(axis=1, how=\"all\")\n",
    "\n",
    "high_corr_cols = correlation.columns[(correlation.abs() > threshold).any()].tolist()\n",
    "if 'loan_status' not in high_corr_cols:\n",
    "    high_corr_cols.append('loan_status')\n",
    "irrelevant_fields = ['id']\n",
    "high_corr_cols = [col for col in high_corr_cols if col not in irrelevant_fields]\n",
    "filtered_data = data[high_corr_cols]\n",
    "print(f\"Columns kept (highly correlated): {high_corr_cols}\")\n",
    "\n",
    "filtered_correlation = filtered_data.corr()\n",
    "\n",
    "plt.figure(figsize=(14, 10))\n",
    "sns.heatmap(filtered_correlation, annot=True, cmap=\"coolwarm\", fmt=\".2f\", vmin=-1, vmax=1)\n",
    "plt.title(\"Heatmap of Correlations for Filtered Data\")\n",
    "plt.show()"
   ]
  },
  {
   "cell_type": "markdown",
   "metadata": {},
   "source": [
    "# Highly Correlated Pairs (Positive Correlation):\n",
    "\n",
    "loan_amnt, funded_amnt, funded_amnt_inv, and installment are strongly correlated (values above 0.94), indicating these features are closely related and likely capture similar information about the loan.\n",
    "total_pymnt, total_pymnt_inv, and total_rec_prncp are also highly correlated (above 0.9), suggesting they all represent payment-related metrics.\n",
    "fico_range_low and fico_range_high are strongly correlated (close to 1.0), reflecting they are likely different scales of the same credit score information.\n",
    "num_actv_rev_tl and num_rev_tl_bal_gt_0 show a high correlation (~0.95), indicating they might represent active revolving credit accounts.\n",
    "num_sats and tot_hi_cred_lim exhibit a strong correlation (~0.98), indicating they may be related to the total credit limits or accounts.\n",
    "\n",
    "# Highly Correlated Pairs (Negative Correlation):\n",
    "\n",
    "collection_recovery_fee and recoveries display strong negative correlations with some payment-related fields, such as total_pymnt or total_rec_prncp.\n",
    "\n",
    "# Key Observations:\n",
    "\n",
    "Features related to loan amount and installment tend to be highly interdependent.\n",
    "Payment-related metrics (total_pymnt, total_rec_prncp, etc.) are strongly connected, which might introduce multicollinearity in models.\n",
    "Features involving credit scores (fico_range_low, fico_range_high) are strongly correlated, suggesting redundancy.\n",
    "Potential Redundancy:\n",
    "\n",
    "Features with correlations close to 1 (e.g., loan_amnt and funded_amnt) or fico_range_low and fico_range_high might be redundant and can be removed or combined to reduce dimensionality."
   ]
  },
  {
   "cell_type": "code",
   "execution_count": null,
   "metadata": {},
   "outputs": [],
   "source": [
    "filtered_data.columns"
   ]
  },
  {
   "cell_type": "markdown",
   "metadata": {},
   "source": [
    "# Feature-target split"
   ]
  },
  {
   "cell_type": "code",
   "execution_count": null,
   "metadata": {},
   "outputs": [],
   "source": [
    "X = data.drop(\"loan_status\", axis=1)\n",
    "y = data[\"loan_status\"]\n",
    "y = pd.factorize(y)[0]"
   ]
  },
  {
   "cell_type": "markdown",
   "metadata": {},
   "source": [
    "# Train-test split"
   ]
  },
  {
   "cell_type": "code",
   "execution_count": null,
   "metadata": {},
   "outputs": [],
   "source": [
    "X_train, X_test, y_train, y_test = train_test_split(X, y, test_size=0.3, random_state=42, stratify=y)"
   ]
  },
  {
   "cell_type": "markdown",
   "metadata": {},
   "source": [
    "# Normalize features"
   ]
  },
  {
   "cell_type": "code",
   "execution_count": null,
   "metadata": {},
   "outputs": [],
   "source": [
    "scaler = StandardScaler()\n",
    "X_train = X_train.select_dtypes(include=['number'])\n",
    "X_test = X_test.select_dtypes(include=['number'])\n",
    "X_train = scaler.fit_transform(X_train)\n",
    "X_test = scaler.transform(X_test)"
   ]
  },
  {
   "cell_type": "markdown",
   "metadata": {},
   "source": [
    "# SMOTE for oversampling"
   ]
  },
  {
   "cell_type": "markdown",
   "metadata": {},
   "source": [
    "*Balancing the dataset by oversampling*"
   ]
  },
  {
   "cell_type": "code",
   "execution_count": null,
   "metadata": {},
   "outputs": [],
   "source": [
    "# smote = SMOTE(random_state=42)\n",
    "# X_train_smote, y_train_smote = smote.fit_resample(X_train, y_train)"
   ]
  },
  {
   "cell_type": "markdown",
   "metadata": {},
   "source": [
    "# Undersampling"
   ]
  },
  {
   "cell_type": "code",
   "execution_count": null,
   "metadata": {},
   "outputs": [],
   "source": [
    "undersampler = RandomUnderSampler(random_state=42)\n",
    "X_train_under, y_train_under = undersampler.fit_resample(X_train, y_train)"
   ]
  },
  {
   "cell_type": "markdown",
   "metadata": {},
   "source": [
    "# Function to train and evaluate models"
   ]
  },
  {
   "cell_type": "code",
   "execution_count": null,
   "metadata": {},
   "outputs": [],
   "source": [
    "from sklearn.preprocessing import label_binarize\n",
    "from sklearn.metrics import roc_curve, auc\n",
    "from sklearn.multiclass import OneVsRestClassifier\n",
    "\n",
    "def evaluate_model_multiclass(model, X_train, y_train, X_test, y_test):\n",
    "    # Binarize the labels for multiclass ROC calculation\n",
    "    y_train_bin = label_binarize(y_train, classes=np.unique(y_train))\n",
    "    y_test_bin = label_binarize(y_test, classes=np.unique(y_test))\n",
    "    n_classes = y_train_bin.shape[1]\n",
    "    \n",
    "    # Train the model using OneVsRest strategy\n",
    "    classifier = OneVsRestClassifier(model)\n",
    "    classifier.fit(X_train, y_train_bin)\n",
    "\n",
    "    # Predict probabilities\n",
    "    y_proba = classifier.predict_proba(X_test)\n",
    "\n",
    "    # Calculate ROC for each class\n",
    "    fpr = {}\n",
    "    tpr = {}\n",
    "    roc_auc = {}\n",
    "    for i in range(n_classes):\n",
    "        fpr[i], tpr[i], _ = roc_curve(y_test_bin[:, i], y_proba[:, i])\n",
    "        roc_auc[i] = auc(fpr[i], tpr[i])\n",
    "    \n",
    "    # Plot ROC curve\n",
    "    plt.figure(figsize=(8, 6))\n",
    "    for i in range(n_classes):\n",
    "        plt.plot(fpr[i], tpr[i], label=f\"Class {i} (area = {roc_auc[i]:0.2f})\")\n",
    "    plt.plot([0, 1], [0, 1], 'k--', lw=2)\n",
    "    plt.xlim([0.0, 1.0])\n",
    "    plt.ylim([0.0, 1.05])\n",
    "    plt.xlabel(\"False Positive Rate\")\n",
    "    plt.ylabel(\"True Positive Rate\")\n",
    "    plt.title(\"ROC Curve for Multiclass\")\n",
    "    plt.legend(loc=\"lower right\")\n",
    "    plt.show()\n",
    "\n",
    "    # Classification report\n",
    "    y_pred = classifier.predict(X_test)\n",
    "    print(\"Classification Report:\\n\", classification_report(y_test_bin, y_pred))\n"
   ]
  },
  {
   "cell_type": "markdown",
   "metadata": {},
   "source": [
    "# Models to evaluate"
   ]
  },
  {
   "cell_type": "code",
   "execution_count": null,
   "metadata": {},
   "outputs": [],
   "source": [
    "models = {\n",
    "    \"Logistic Regression\": LogisticRegression(max_iter=1000),\n",
    "    \"SVM\": SVC(probability=True, kernel='rbf', random_state=42),\n",
    "    \"Gradient Boosting\": GradientBoostingClassifier(random_state=42),\n",
    "    \"KNN\": KNeighborsClassifier(),\n",
    "    \"Naive Bayes\": GaussianNB(),\n",
    "    \"Decision Tree\": DecisionTreeClassifier(random_state=42),\n",
    "    \"XGBoost\": XGBClassifier(use_label_encoder=False, eval_metric='logloss', random_state=42),\n",
    "    \"LightGBM\": LGBMClassifier(random_state=42)\n",
    "}"
   ]
  },
  {
   "cell_type": "markdown",
   "metadata": {},
   "source": [
    "# Evaluate models"
   ]
  },
  {
   "cell_type": "code",
   "execution_count": null,
   "metadata": {},
   "outputs": [],
   "source": [
    "for model_name, model in models.items():\n",
    "    print(f\"\\nModel: {model_name} (Multiclass Evaluation)\")\n",
    "    evaluate_model_multiclass(model, X_train, y_train, X_test, y_test)"
   ]
  },
  {
   "cell_type": "markdown",
   "metadata": {},
   "source": [
    "# Evaluate models with undersampling"
   ]
  },
  {
   "cell_type": "code",
   "execution_count": null,
   "metadata": {},
   "outputs": [],
   "source": [
    "for model_name, model in models.items():\n",
    "    print(f\"\\nModel: {model_name} (Multiclass Evaluation)\")\n",
    "    evaluate_model_multiclass(model, X_train_under, y_train_under, X_test, y_test)"
   ]
  },
  {
   "cell_type": "code",
   "execution_count": null,
   "metadata": {},
   "outputs": [],
   "source": [
    "# print(\"\\nModel: Gradient Boosting with Undersampling\")\n",
    "# evaluate_model(GradientBoostingClassifier(random_state=42), X_train_under, y_train_under, X_test, y_test)"
   ]
  },
  {
   "cell_type": "markdown",
   "metadata": {},
   "source": [
    "# Build ANN"
   ]
  },
  {
   "cell_type": "code",
   "execution_count": null,
   "metadata": {},
   "outputs": [],
   "source": [
    "ann = Sequential([\n",
    "    Dense(64, activation='relu', input_shape=(X_train.shape[1],)),\n",
    "    Dropout(0.3),\n",
    "    Dense(32, activation='relu'),\n",
    "    Dropout(0.2),\n",
    "    Dense(1, activation='sigmoid')\n",
    "])\n",
    "ann.compile(optimizer='adam', loss='binary_crossentropy', metrics=['accuracy'])\n",
    "ann.fit(X_train_smote, y_train_smote, validation_data=(X_test, y_test), epochs=50, batch_size=32, verbose=1)"
   ]
  },
  {
   "cell_type": "markdown",
   "metadata": {},
   "source": [
    "# Evaluate ANN"
   ]
  },
  {
   "cell_type": "code",
   "execution_count": null,
   "metadata": {},
   "outputs": [],
   "source": [
    "y_pred_ann = (ann.predict(X_test) > 0.5).astype(int)\n",
    "print(\"\\nClassification Report for ANN:\\n\", classification_report(y_test, y_pred_ann))"
   ]
  }
 ],
 "metadata": {
  "kernelspec": {
   "display_name": "base",
   "language": "python",
   "name": "python3"
  },
  "language_info": {
   "codemirror_mode": {
    "name": "ipython",
    "version": 3
   },
   "file_extension": ".py",
   "mimetype": "text/x-python",
   "name": "python",
   "nbconvert_exporter": "python",
   "pygments_lexer": "ipython3",
   "version": "3.12.4"
  }
 },
 "nbformat": 4,
 "nbformat_minor": 2
}
