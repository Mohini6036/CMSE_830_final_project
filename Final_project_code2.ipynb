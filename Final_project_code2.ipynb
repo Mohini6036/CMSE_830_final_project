{
 "cells": [
  {
   "cell_type": "markdown",
   "metadata": {},
   "source": [
    "# Import libraries"
   ]
  },
  {
   "cell_type": "code",
   "execution_count": null,
   "metadata": {},
   "outputs": [],
   "source": [
    "import pandas as pd\n",
    "import numpy as np\n",
    "import matplotlib.pyplot as plt\n",
    "import seaborn as sns\n",
    "import os\n",
    "from sklearn.model_selection import train_test_split, GridSearchCV\n",
    "from sklearn.preprocessing import StandardScaler\n",
    "from sklearn.impute import SimpleImputer\n",
    "from imblearn.over_sampling import SMOTE\n",
    "from imblearn.under_sampling import RandomUnderSampler\n",
    "from sklearn.metrics import classification_report, roc_auc_score, confusion_matrix, roc_curve\n",
    "from sklearn.svm import SVC\n",
    "from sklearn.ensemble import GradientBoostingClassifier\n",
    "from sklearn.neighbors import KNeighborsClassifier\n",
    "from sklearn.naive_bayes import GaussianNB\n",
    "from sklearn.tree import DecisionTreeClassifier\n",
    "from xgboost import XGBClassifier\n",
    "from lightgbm import LGBMClassifier\n",
    "from sklearn.linear_model import LogisticRegression\n",
    "# import tensorflow as tf\n",
    "# from tensorflow.keras.models import Sequential\n",
    "# from tensorflow.keras.layers import Dense, Dropout"
   ]
  },
  {
   "cell_type": "code",
   "execution_count": null,
   "metadata": {},
   "outputs": [],
   "source": [
    "# url = \"D:/Foundations_of_DataScience/Projects/Final_projects/lending_club_dataset_2007_2020/lending_club_clean.feather\"\n",
    "# data = pd.read_feather(url)\n",
    "\n",
    "\n",
    "# target_variable = 'loan_status'  # Replace with the actual target variable name\n",
    "\n",
    "# # Define the percentage of data to retain (75-80%)\n",
    "# retain_fraction = 0.75 + 0.05 * (data[target_variable].value_counts(normalize=True).std() < 0.01)\n",
    "\n",
    "# # Stratified sampling to maintain balance in the target variable\n",
    "# reduced_data, _ = train_test_split(\n",
    "#     data, \n",
    "#     test_size=1 - retain_fraction, \n",
    "#     stratify=data[target_variable], \n",
    "#     random_state=42\n",
    "# )\n",
    "\n",
    "# # Save the reduced dataset to a CSV file\n",
    "# output_path = \"D:/Foundations_of_DataScience/Projects/Final_projects/lending_club_dataset_2007_2020/reduced_data.csv\"\n",
    "# reduced_data.to_csv(output_path, index=False)"
   ]
  },
  {
   "cell_type": "markdown",
   "metadata": {},
   "source": [
    "# Load data"
   ]
  },
  {
   "cell_type": "code",
   "execution_count": 32,
   "metadata": {},
   "outputs": [],
   "source": [
    "# url = \"\"\"D:/Foundations_of_DataScience/Projects/Final_projects/lending_club_dataset_2007_2020/lending_club_clean.feather\"\"\"\n",
    "# data = pd.read_feather(url)\n",
    "# # data = pd.read_csv(url)\n",
    "\n",
    "dfs = []\n",
    "for i in range(73):\n",
    "    file_path = os.path.join(f'chunk_{i}.csv')\n",
    "    df = pd.read_csv(file_path)\n",
    "    dfs.append(df)\n",
    "\n",
    "data = pd.concat(dfs, ignore_index=True)\n",
    "df=data.copy()"
   ]
  },
  {
   "cell_type": "markdown",
   "metadata": {},
   "source": [
    "# Initial inspection"
   ]
  },
  {
   "cell_type": "code",
   "execution_count": 33,
   "metadata": {},
   "outputs": [
    {
     "name": "stdout",
     "output_type": "stream",
     "text": [
      "Index(['id', 'loan_amnt', 'funded_amnt', 'funded_amnt_inv', 'term', 'int_rate',\n",
      "       'installment', 'grade', 'sub_grade', 'emp_title',\n",
      "       ...\n",
      "       'sec_app_collections_12_mths_ex_med', 'hardship_flag', 'deferral_term',\n",
      "       'hardship_amount', 'hardship_length', 'hardship_dpd',\n",
      "       'orig_projected_additional_accrued_interest',\n",
      "       'hardship_payoff_balance_amount', 'hardship_last_payment_amount',\n",
      "       'debt_settlement_flag'],\n",
      "      dtype='object', length=128)\n"
     ]
    }
   ],
   "source": [
    "columns_to_remove = [\n",
    "    \"hardship_type\",\n",
    "    \"hardship_reason\",\n",
    "    \"hardship_status\",\n",
    "    \"hardship_start_date\",\n",
    "    \"hardship_end_date\",\n",
    "    \"payment_plan_start_date\",\n",
    "    \"hardship_loan_status\",\n",
    "    \"verification_status_joint\",\n",
    "    \"sec_app_earliest_cr_line\",\n",
    "    \"next_pymnt_d\",\n",
    "    \"earliest_cr_line\",\n",
    "    \"last_credit_pull_d\",\n",
    "    \"revol_util\"\n",
    "]\n",
    "data = data.drop(columns=columns_to_remove)\n",
    "print(data.columns)"
   ]
  },
  {
   "cell_type": "code",
   "execution_count": 34,
   "metadata": {},
   "outputs": [
    {
     "name": "stdout",
     "output_type": "stream",
     "text": [
      "Columns with missing values and their counts:\n",
      "emp_title        197785\n",
      "emp_length       153833\n",
      "title             17500\n",
      "zip_code              1\n",
      "last_pymnt_d       3666\n",
      "hardship_flag     28873\n",
      "dtype: int64\n"
     ]
    }
   ],
   "source": [
    "missing_values = data.isnull().sum()\n",
    "missing_columns = missing_values[missing_values > 0]\n",
    "\n",
    "print(\"Columns with missing values and their counts:\")\n",
    "print(missing_columns)"
   ]
  },
  {
   "cell_type": "code",
   "execution_count": 35,
   "metadata": {},
   "outputs": [
    {
     "name": "stdout",
     "output_type": "stream",
     "text": [
      "Basic Statistics:\n",
      "                   id     loan_amnt   funded_amnt  funded_amnt_inv  \\\n",
      "count   2.194119e+06  2.194119e+06  2.194119e+06     2.194119e+06   \n",
      "unique           NaN           NaN           NaN              NaN   \n",
      "top              NaN           NaN           NaN              NaN   \n",
      "freq             NaN           NaN           NaN              NaN   \n",
      "mean    9.784321e+07  1.535942e+04  1.535525e+04     1.534062e+04   \n",
      "std     5.116534e+07  9.482292e+03  9.480904e+03     9.484278e+03   \n",
      "min     5.473400e+04  5.000000e+02  5.000000e+02     0.000000e+00   \n",
      "25%     5.913145e+07  8.000000e+03  8.000000e+03     8.000000e+03   \n",
      "50%     1.076269e+08  1.300000e+04  1.300000e+04     1.300000e+04   \n",
      "75%     1.432421e+08  2.000000e+04  2.000000e+04     2.000000e+04   \n",
      "max     1.710154e+08  4.000000e+04  4.000000e+04     4.000000e+04   \n",
      "\n",
      "                term      int_rate   installment    grade sub_grade emp_title  \\\n",
      "count   2.194119e+06  2.194119e+06  2.194119e+06  2194119   2194119   1996334   \n",
      "unique           NaN           NaN           NaN        7        35    477876   \n",
      "top              NaN           NaN           NaN        B        B4   Teacher   \n",
      "freq             NaN           NaN           NaN   643103    138632     37587   \n",
      "mean    4.309539e+01  1.304258e-01  4.524155e+02      NaN       NaN       NaN   \n",
      "std     1.095193e+01  4.859969e-02  2.730459e+02      NaN       NaN       NaN   \n",
      "min     3.600000e+01  5.310000e-02  4.930000e+00      NaN       NaN       NaN   \n",
      "25%     3.600000e+01  9.170000e-02  2.535000e+02      NaN       NaN       NaN   \n",
      "50%     3.600000e+01  1.249000e-01  3.819900e+02      NaN       NaN       NaN   \n",
      "75%     6.000000e+01  1.599000e-01  6.039400e+02      NaN       NaN       NaN   \n",
      "max     6.000000e+01  3.099000e-01  1.719830e+03      NaN       NaN       NaN   \n",
      "\n",
      "        ... sec_app_collections_12_mths_ex_med hardship_flag  deferral_term  \\\n",
      "count   ...                       2.194119e+06       2165246   2.194119e+06   \n",
      "unique  ...                                NaN             2            NaN   \n",
      "top     ...                                NaN             N            NaN   \n",
      "freq    ...                                NaN       2074258            NaN   \n",
      "mean    ...                      -9.277204e-01           NaN  -8.414339e-01   \n",
      "std     ...                       2.854793e-01           NaN   7.096690e-01   \n",
      "min     ...                      -1.000000e+00           NaN  -1.000000e+00   \n",
      "25%     ...                      -1.000000e+00           NaN  -1.000000e+00   \n",
      "50%     ...                      -1.000000e+00           NaN  -1.000000e+00   \n",
      "75%     ...                      -1.000000e+00           NaN  -1.000000e+00   \n",
      "max     ...                       2.300000e+01           NaN   4.000000e+00   \n",
      "\n",
      "       hardship_amount hardship_length  hardship_dpd  \\\n",
      "count     2.194119e+06    2.194119e+06  2.194119e+06   \n",
      "unique             NaN             NaN           NaN   \n",
      "top                NaN             NaN           NaN   \n",
      "freq               NaN             NaN           NaN   \n",
      "mean      6.525362e+00   -8.414339e-01 -8.365946e-01   \n",
      "std       6.825567e+01    7.096690e-01  1.548973e+00   \n",
      "min      -1.000000e+00   -1.000000e+00 -1.000000e+00   \n",
      "25%      -1.000000e+00   -1.000000e+00 -1.000000e+00   \n",
      "50%      -1.000000e+00   -1.000000e+00 -1.000000e+00   \n",
      "75%      -1.000000e+00   -1.000000e+00 -1.000000e+00   \n",
      "max       2.797500e+03    4.000000e+00  7.800000e+01   \n",
      "\n",
      "       orig_projected_additional_accrued_interest  \\\n",
      "count                                2.194119e+06   \n",
      "unique                                        NaN   \n",
      "top                                           NaN   \n",
      "freq                                          NaN   \n",
      "mean                                 2.173519e+01   \n",
      "std                                  1.472524e+02   \n",
      "min                                 -1.000000e+00   \n",
      "25%                                 -1.000000e+00   \n",
      "50%                                 -1.000000e+00   \n",
      "75%                                 -1.000000e+00   \n",
      "max                                  1.158182e+04   \n",
      "\n",
      "       hardship_payoff_balance_amount hardship_last_payment_amount  \\\n",
      "count                    2.194119e+06                 2.194119e+06   \n",
      "unique                            NaN                          NaN   \n",
      "top                               NaN                          NaN   \n",
      "freq                              NaN                          NaN   \n",
      "mean                     7.448235e+02                 4.527373e+01   \n",
      "std                      3.691923e+03                 5.493796e+02   \n",
      "min                     -1.000000e+00                -1.000000e+00   \n",
      "25%                     -1.000000e+00                -1.000000e+00   \n",
      "50%                     -1.000000e+00                -1.000000e+00   \n",
      "75%                     -1.000000e+00                -1.000000e+00   \n",
      "max                      4.213555e+04                 4.027098e+04   \n",
      "\n",
      "       debt_settlement_flag  \n",
      "count               2194119  \n",
      "unique                    2  \n",
      "top                       N  \n",
      "freq                2155430  \n",
      "mean                    NaN  \n",
      "std                     NaN  \n",
      "min                     NaN  \n",
      "25%                     NaN  \n",
      "50%                     NaN  \n",
      "75%                     NaN  \n",
      "max                     NaN  \n",
      "\n",
      "[11 rows x 128 columns]\n"
     ]
    }
   ],
   "source": [
    "print(\"Basic Statistics:\\n\", data.describe(include='all'))"
   ]
  },
  {
   "cell_type": "code",
   "execution_count": 36,
   "metadata": {},
   "outputs": [],
   "source": [
    "data=data[(~data['emp_length'].isna()) & (~data['emp_title'].isna())].copy()"
   ]
  },
  {
   "cell_type": "code",
   "execution_count": 37,
   "metadata": {},
   "outputs": [],
   "source": [
    "data = data.dropna(subset=['zip_code'])"
   ]
  },
  {
   "cell_type": "markdown",
   "metadata": {},
   "source": [
    "# Fill missing values for simplicity"
   ]
  },
  {
   "cell_type": "code",
   "execution_count": 38,
   "metadata": {},
   "outputs": [],
   "source": [
    "numerical_cols = data.select_dtypes(include=['number']).columns\n",
    "categorical_cols = data.select_dtypes(include=['object', 'category']).columns"
   ]
  },
  {
   "cell_type": "code",
   "execution_count": 39,
   "metadata": {},
   "outputs": [],
   "source": [
    "numerical_imputer = SimpleImputer(strategy='mean')\n",
    "data[numerical_cols] = numerical_imputer.fit_transform(data[numerical_cols])"
   ]
  },
  {
   "cell_type": "code",
   "execution_count": 40,
   "metadata": {},
   "outputs": [],
   "source": [
    "categorical_imputer = SimpleImputer(strategy='most_frequent')\n",
    "data[categorical_cols] = categorical_imputer.fit_transform(data[categorical_cols])"
   ]
  },
  {
   "cell_type": "markdown",
   "metadata": {},
   "source": [
    "# Convert categorical columns to numeric"
   ]
  },
  {
   "cell_type": "code",
   "execution_count": null,
   "metadata": {},
   "outputs": [],
   "source": [
    "categorical_cols = data.select_dtypes(include=['object']).columns\n",
    "for col in categorical_cols:\n",
    "    data[col] = pd.factorize(data[col])[0]"
   ]
  },
  {
   "cell_type": "markdown",
   "metadata": {},
   "source": [
    "### Exploratory Data Analysis (EDA)"
   ]
  },
  {
   "cell_type": "code",
   "execution_count": null,
   "metadata": {},
   "outputs": [],
   "source": [
    "plt.figure(figsize=(12, 6))\n",
    "sns.histplot(data['loan_amnt'], kde=True, bins=30)\n",
    "plt.title(\"Loan Amount Distribution\")\n",
    "plt.show()"
   ]
  },
  {
   "cell_type": "markdown",
   "metadata": {},
   "source": [
    "# Correlation heatmap"
   ]
  },
  {
   "cell_type": "code",
   "execution_count": null,
   "metadata": {},
   "outputs": [],
   "source": [
    "correlation = data.corr()\n",
    "threshold = 0.5 \n",
    "loan_status_correlation = correlation[\"loan_status\"].abs()\n",
    "highly_correlated = loan_status_correlation[loan_status_correlation > threshold].sort_values(ascending=False)\n",
    "print(\"Highly correlated features with 'loan_status':\")\n",
    "print(highly_correlated)\n",
    "\n",
    "high_corr_features = highly_correlated.index.tolist()\n",
    "plt.figure(figsize=(10, 8))\n",
    "sns.heatmap(data[high_corr_features].corr(), annot=True, cmap=\"coolwarm\", fmt=\".2f\")\n",
    "plt.title(\"Heatmap of Highly Correlated Features with 'loan_status'\")\n",
    "plt.show()"
   ]
  },
  {
   "cell_type": "markdown",
   "metadata": {},
   "source": [
    "# Overall features"
   ]
  },
  {
   "cell_type": "code",
   "execution_count": null,
   "metadata": {},
   "outputs": [],
   "source": [
    "threshold = 0.9\n",
    "np.fill_diagonal(correlation.values, 0)\n",
    "filtered_correlation = correlation[correlation.abs() > threshold]\n",
    "filtered_correlation = filtered_correlation.dropna(how=\"all\").dropna(axis=1, how=\"all\")\n",
    "\n",
    "high_corr_cols = correlation.columns[(correlation.abs() > threshold).any()].tolist()\n",
    "if 'loan_status' not in high_corr_cols:\n",
    "    high_corr_cols.append('loan_status')\n",
    "irrelevant_fields = ['id']\n",
    "high_corr_cols = [col for col in high_corr_cols if col not in irrelevant_fields]\n",
    "filtered_data = data[high_corr_cols]\n",
    "print(f\"Columns kept (highly correlated): {high_corr_cols}\")\n",
    "\n",
    "filtered_correlation = filtered_data.corr()\n",
    "\n",
    "plt.figure(figsize=(14, 10))\n",
    "sns.heatmap(filtered_correlation, annot=True, cmap=\"coolwarm\", fmt=\".2f\", vmin=-1, vmax=1)\n",
    "plt.title(\"Heatmap of Correlations for Filtered Data\")\n",
    "plt.show()"
   ]
  },
  {
   "cell_type": "markdown",
   "metadata": {},
   "source": [
    "# Highly Correlated Pairs (Positive Correlation):\n",
    "\n",
    "loan_amnt, funded_amnt, funded_amnt_inv, and installment are strongly correlated (values above 0.94), indicating these features are closely related and likely capture similar information about the loan.\n",
    "total_pymnt, total_pymnt_inv, and total_rec_prncp are also highly correlated (above 0.9), suggesting they all represent payment-related metrics.\n",
    "fico_range_low and fico_range_high are strongly correlated (close to 1.0), reflecting they are likely different scales of the same credit score information.\n",
    "num_actv_rev_tl and num_rev_tl_bal_gt_0 show a high correlation (~0.95), indicating they might represent active revolving credit accounts.\n",
    "num_sats and tot_hi_cred_lim exhibit a strong correlation (~0.98), indicating they may be related to the total credit limits or accounts.\n",
    "\n",
    "# Highly Correlated Pairs (Negative Correlation):\n",
    "\n",
    "collection_recovery_fee and recoveries display strong negative correlations with some payment-related fields, such as total_pymnt or total_rec_prncp.\n",
    "\n",
    "# Key Observations:\n",
    "\n",
    "Features related to loan amount and installment tend to be highly interdependent.\n",
    "Payment-related metrics (total_pymnt, total_rec_prncp, etc.) are strongly connected, which might introduce multicollinearity in models.\n",
    "Features involving credit scores (fico_range_low, fico_range_high) are strongly correlated, suggesting redundancy.\n",
    "Potential Redundancy:\n",
    "\n",
    "Features with correlations close to 1 (e.g., loan_amnt and funded_amnt) or fico_range_low and fico_range_high might be redundant and can be removed or combined to reduce dimensionality."
   ]
  },
  {
   "cell_type": "code",
   "execution_count": null,
   "metadata": {},
   "outputs": [],
   "source": [
    "filtered_data.columns"
   ]
  },
  {
   "cell_type": "markdown",
   "metadata": {},
   "source": [
    "# Feature-target split"
   ]
  },
  {
   "cell_type": "code",
   "execution_count": null,
   "metadata": {},
   "outputs": [],
   "source": [
    "X = data.drop(\"loan_status\", axis=1)\n",
    "y = data[\"loan_status\"]\n",
    "y = pd.factorize(y)[0]"
   ]
  },
  {
   "cell_type": "markdown",
   "metadata": {},
   "source": [
    "# Train-test split"
   ]
  },
  {
   "cell_type": "code",
   "execution_count": null,
   "metadata": {},
   "outputs": [],
   "source": [
    "X_train, X_test, y_train, y_test = train_test_split(X, y, test_size=0.3, random_state=42, stratify=y)"
   ]
  },
  {
   "cell_type": "markdown",
   "metadata": {},
   "source": [
    "# Normalize features"
   ]
  },
  {
   "cell_type": "code",
   "execution_count": null,
   "metadata": {},
   "outputs": [],
   "source": [
    "scaler = StandardScaler()\n",
    "X_train = X_train.select_dtypes(include=['number'])\n",
    "X_test = X_test.select_dtypes(include=['number'])\n",
    "X_train = scaler.fit_transform(X_train)\n",
    "X_test = scaler.transform(X_test)"
   ]
  },
  {
   "cell_type": "markdown",
   "metadata": {},
   "source": [
    "# SMOTE for oversampling"
   ]
  },
  {
   "cell_type": "markdown",
   "metadata": {},
   "source": [
    "*Balancing the dataset by oversampling*"
   ]
  },
  {
   "cell_type": "code",
   "execution_count": null,
   "metadata": {},
   "outputs": [],
   "source": [
    "# smote = SMOTE(random_state=42)\n",
    "# X_train_smote, y_train_smote = smote.fit_resample(X_train, y_train)"
   ]
  },
  {
   "cell_type": "markdown",
   "metadata": {},
   "source": [
    "# Undersampling"
   ]
  },
  {
   "cell_type": "code",
   "execution_count": null,
   "metadata": {},
   "outputs": [],
   "source": [
    "undersampler = RandomUnderSampler(random_state=42)\n",
    "X_train_under, y_train_under = undersampler.fit_resample(X_train, y_train)"
   ]
  },
  {
   "cell_type": "markdown",
   "metadata": {},
   "source": [
    "# Function to train and evaluate models"
   ]
  },
  {
   "cell_type": "code",
   "execution_count": null,
   "metadata": {},
   "outputs": [],
   "source": [
    "from sklearn.preprocessing import label_binarize\n",
    "from sklearn.metrics import roc_curve, auc\n",
    "from sklearn.multiclass import OneVsRestClassifier\n",
    "\n",
    "def evaluate_model_multiclass(model, X_train, y_train, X_test, y_test):\n",
    "    # Binarize the labels for multiclass ROC calculation\n",
    "    y_train_bin = label_binarize(y_train, classes=np.unique(y_train))\n",
    "    y_test_bin = label_binarize(y_test, classes=np.unique(y_test))\n",
    "    n_classes = y_train_bin.shape[1]\n",
    "    \n",
    "    # Train the model using OneVsRest strategy\n",
    "    classifier = OneVsRestClassifier(model)\n",
    "    classifier.fit(X_train, y_train_bin)\n",
    "\n",
    "    # Predict probabilities\n",
    "    y_proba = classifier.predict_proba(X_test)\n",
    "\n",
    "    # Calculate ROC for each class\n",
    "    fpr = {}\n",
    "    tpr = {}\n",
    "    roc_auc = {}\n",
    "    for i in range(n_classes):\n",
    "        fpr[i], tpr[i], _ = roc_curve(y_test_bin[:, i], y_proba[:, i])\n",
    "        roc_auc[i] = auc(fpr[i], tpr[i])\n",
    "    \n",
    "    # Plot ROC curve\n",
    "    plt.figure(figsize=(8, 6))\n",
    "    for i in range(n_classes):\n",
    "        plt.plot(fpr[i], tpr[i], label=f\"Class {i} (area = {roc_auc[i]:0.2f})\")\n",
    "    plt.plot([0, 1], [0, 1], 'k--', lw=2)\n",
    "    plt.xlim([0.0, 1.0])\n",
    "    plt.ylim([0.0, 1.05])\n",
    "    plt.xlabel(\"False Positive Rate\")\n",
    "    plt.ylabel(\"True Positive Rate\")\n",
    "    plt.title(\"ROC Curve for Multiclass\")\n",
    "    plt.legend(loc=\"lower right\")\n",
    "    plt.show()\n",
    "\n",
    "    # Classification report\n",
    "    y_pred = classifier.predict(X_test)\n",
    "    print(\"Classification Report:\\n\", classification_report(y_test_bin, y_pred))\n"
   ]
  },
  {
   "cell_type": "markdown",
   "metadata": {},
   "source": [
    "# Models to evaluate"
   ]
  },
  {
   "cell_type": "code",
   "execution_count": null,
   "metadata": {},
   "outputs": [],
   "source": [
    "models = {\n",
    "    \"Logistic Regression\": LogisticRegression(max_iter=1000),\n",
    "    \"SVM\": SVC(probability=True, kernel='rbf', random_state=42),\n",
    "    \"Gradient Boosting\": GradientBoostingClassifier(random_state=42),\n",
    "    \"KNN\": KNeighborsClassifier(),\n",
    "    \"Naive Bayes\": GaussianNB(),\n",
    "    \"Decision Tree\": DecisionTreeClassifier(random_state=42),\n",
    "    \"XGBoost\": XGBClassifier(use_label_encoder=False, eval_metric='logloss', random_state=42),\n",
    "    \"LightGBM\": LGBMClassifier(random_state=42)\n",
    "}"
   ]
  },
  {
   "cell_type": "markdown",
   "metadata": {},
   "source": [
    "# Evaluate models"
   ]
  },
  {
   "cell_type": "code",
   "execution_count": null,
   "metadata": {},
   "outputs": [],
   "source": [
    "for model_name, model in models.items():\n",
    "    print(f\"\\nModel: {model_name} (Multiclass Evaluation)\")\n",
    "    evaluate_model_multiclass(model, X_train, y_train, X_test, y_test)"
   ]
  },
  {
   "cell_type": "markdown",
   "metadata": {},
   "source": [
    "# Evaluate models with undersampling"
   ]
  },
  {
   "cell_type": "code",
   "execution_count": null,
   "metadata": {},
   "outputs": [],
   "source": [
    "for model_name, model in models.items():\n",
    "    print(f\"\\nModel: {model_name} (Multiclass Evaluation)\")\n",
    "    evaluate_model_multiclass(model, X_train_under, y_train_under, X_test, y_test)"
   ]
  }
 ],
 "metadata": {
  "kernelspec": {
   "display_name": "base",
   "language": "python",
   "name": "python3"
  },
  "language_info": {
   "codemirror_mode": {
    "name": "ipython",
    "version": 3
   },
   "file_extension": ".py",
   "mimetype": "text/x-python",
   "name": "python",
   "nbconvert_exporter": "python",
   "pygments_lexer": "ipython3",
   "version": "3.12.4"
  }
 },
 "nbformat": 4,
 "nbformat_minor": 2
}
